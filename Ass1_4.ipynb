{
  "nbformat": 4,
  "nbformat_minor": 0,
  "metadata": {
    "colab": {
      "provenance": [],
      "authorship_tag": "ABX9TyOFP3DvxSkp1xeGcdC+E0i+",
      "include_colab_link": true
    },
    "kernelspec": {
      "name": "python3",
      "display_name": "Python 3"
    },
    "language_info": {
      "name": "python"
    }
  },
  "cells": [
    {
      "cell_type": "markdown",
      "metadata": {
        "id": "view-in-github",
        "colab_type": "text"
      },
      "source": [
        "<a href=\"https://colab.research.google.com/github/AkhilEda23/Assignment1/blob/main/Ass1_4.ipynb\" target=\"_parent\"><img src=\"https://colab.research.google.com/assets/colab-badge.svg\" alt=\"Open In Colab\"/></a>"
      ]
    },
    {
      "cell_type": "code",
      "execution_count": 13,
      "metadata": {
        "colab": {
          "base_uri": "https://localhost:8080/"
        },
        "id": "NUnkH6dMXqPd",
        "outputId": "54e2ccf2-7aba-4076-eea0-b708e9bb2ea8"
      },
      "outputs": [
        {
          "output_type": "stream",
          "name": "stdout",
          "text": [
            "[19, 19, 20, 22, 24, 24, 24, 25, 25, 26]\n",
            "19\n",
            "26\n",
            "[19, 19, 20, 22, 24, 24, 24, 25, 25, 26, 26]\n",
            "[19, 19, 20, 22, 24, 24, 24, 25, 25, 26, 26, 19]\n",
            "[19, 19, 19, 20, 22, 24, 24, 24, 25, 25, 26, 26]\n",
            "24.0\n",
            "22.75\n",
            "7\n"
          ]
        }
      ],
      "source": [
        "import statistics\n",
        "ages = [19, 22, 19, 24, 20, 25, 26, 24, 25, 24]\n",
        "ages.sort()\n",
        "print(ages)\n",
        "minimum = min(ages)\n",
        "print(minimum)\n",
        "maximum  = max(ages)\n",
        "print(maximum)\n",
        "ages.append(maximum)\n",
        "print(ages)\n",
        "ages.append(minimum)\n",
        "print(ages)\n",
        "ages.sort()\n",
        "print(ages)\n",
        "medain_value = statistics.median(ages)\n",
        "print(medain_value)\n",
        "mean_value = statistics.mean(ages)\n",
        "print(mean_value)\n",
        "range_value  = max(ages) - min(ages)\n",
        "print(range_value)"
      ]
    },
    {
      "cell_type": "code",
      "source": [
        "#Dictionaries\n",
        "\n",
        "dog = {\n",
        "    \"name\" : \"Miller\",\n",
        "     \"color\":\"white\",\n",
        "     \"breed\" :\"shinzu\",\n",
        "     \"legs\":4,\n",
        "     \"age\":2\n",
        "}\n",
        "\n",
        "print(dog)\n",
        "\n",
        "student = {\n",
        "    \"first_name\" : \"John\",\n",
        "    \"last_name\" :\"Snow\",\n",
        "    \"gender\" :\"male\",\n",
        "    \"age\":25,\n",
        "    \"marital_status\" :\"married\",\n",
        "    \"skills\" :[\"C programming\",\"node\",\"python\"],\n",
        "    \"country\":\"USA\",\n",
        "    \"city\":\"Overland Park\",\n",
        "    \"address\":\"9008 w 124thst\"\n",
        "}\n",
        "\n",
        "print(student)\n",
        "\n",
        "print(len(student))\n",
        "\n",
        "print(student[\"skills\"])\n",
        "print(type(student['skills']))\n",
        "\n",
        "student[\"skills\"].append(\"R programming\")\n",
        "\n",
        "print(student[\"skills\"])\n",
        "\n",
        "\n",
        "keys = student.keys()\n",
        "print(keys)\n",
        "\n",
        "values = student.values()\n",
        "print(values)"
      ],
      "metadata": {
        "colab": {
          "base_uri": "https://localhost:8080/"
        },
        "id": "8-EkUGIPrnhk",
        "outputId": "95410741-8d40-4109-e433-d2e67f0288aa"
      },
      "execution_count": 29,
      "outputs": [
        {
          "output_type": "stream",
          "name": "stdout",
          "text": [
            "{'name': 'Miller', 'color': 'white', 'breed': 'shinzu', 'legs': 4, 'age': 2}\n",
            "{'first_name': 'John', 'last_name': 'Snow', 'gender': 'male', 'age': 25, 'marital_status': 'married', 'skills': ['C programming', 'node', 'python'], 'country': 'USA', 'city': 'Overland Park', 'address': '9008 w 124thst'}\n",
            "9\n",
            "['C programming', 'node', 'python']\n",
            "<class 'list'>\n",
            "['C programming', 'node', 'python', 'R programming']\n",
            "dict_keys(['first_name', 'last_name', 'gender', 'age', 'marital_status', 'skills', 'country', 'city', 'address'])\n",
            "dict_values(['John', 'Snow', 'male', 25, 'married', ['C programming', 'node', 'python', 'R programming'], 'USA', 'Overland Park', '9008 w 124thst'])\n"
          ]
        }
      ]
    },
    {
      "cell_type": "code",
      "source": [
        "#TUPLE\n",
        "\n",
        "brother_tuple = (\"adam\",\"jamshed\",\"jalal\",\"arsal\",\"farhaad\")\n",
        " \n",
        "print(type(brother_tuple))\n",
        "\n",
        "sister_tuple = (\"ajiya\",\"kinza\",\"huma\",\"shahana\")\n",
        "\n",
        "print(type(sister_tuple))\n",
        "\n",
        "siblings_tuple = brother_tuple + sister_tuple\n",
        "\n",
        "print(siblings_tuple)\n",
        "\n",
        "print(len(siblings_tuple))\n",
        "\n",
        "\n",
        "\n"
      ],
      "metadata": {
        "colab": {
          "base_uri": "https://localhost:8080/"
        },
        "id": "Haq7V1ahtNXB",
        "outputId": "d915276e-2abc-4d49-fe5c-1cd1d6ffcace"
      },
      "execution_count": 36,
      "outputs": [
        {
          "output_type": "stream",
          "name": "stdout",
          "text": [
            "<class 'tuple'>\n",
            "<class 'tuple'>\n",
            "('adam', 'jamshed', 'jalal', 'arsal', 'farhaad', 'ajiya', 'kinza', 'huma', 'shahana')\n",
            "9\n"
          ]
        }
      ]
    },
    {
      "cell_type": "code",
      "source": [
        "#Set\n",
        "it_companies = {'Facebook', 'Google', 'Microsoft', 'Apple', 'IBM', 'Oracle', 'Amazon'}\n",
        "print(len(it_companies))\n",
        "\n",
        "it_companies.add(\"Twitter\")\n",
        "print(it_companies)\n",
        "\n",
        "it_companies.update([\"Cognizant\",\"TCS\",\"Accenture\",\"MindTree\"])\n",
        "print(it_companies)\n",
        "\n",
        "it_companies.remove('TCS')\n",
        "print(it_companies)\n",
        "\n",
        "A = {19, 22, 24, 20, 25, 26}\n",
        "B = {19, 22, 20, 25, 26, 24, 28, 27}\n",
        "\n",
        "C = A.union(B)\n",
        "print(C)\n",
        "\n",
        "D = A.intersection(B)\n",
        "print(D)\n",
        "\n",
        "print(A.issubset(B))\n",
        "print(A.isdisjoint(B))\n",
        "\n",
        "print(A.union(B))\n",
        "print(B.union(A))\n",
        "\n",
        "print(A.symmetric_difference(B))\n",
        "\n",
        "del A\n",
        "del B\n",
        "#print(A)\n",
        "#print(B)\n",
        "\n",
        "age = [22, 19, 24, 25, 26, 24, 25, 24]\n",
        "age_set = set(age)\n",
        "print(age_set)\n",
        "\n",
        "print(len(age))\n",
        "print(len(age_set))\n"
      ],
      "metadata": {
        "colab": {
          "base_uri": "https://localhost:8080/"
        },
        "id": "ePbgx1NP2PpR",
        "outputId": "9ab386f7-44e3-46a7-fc08-f2582f957f52"
      },
      "execution_count": 56,
      "outputs": [
        {
          "output_type": "stream",
          "name": "stdout",
          "text": [
            "7\n",
            "{'IBM', 'Twitter', 'Google', 'Facebook', 'Amazon', 'Apple', 'Oracle', 'Microsoft'}\n",
            "{'MindTree', 'IBM', 'Twitter', 'TCS', 'Google', 'Facebook', 'Amazon', 'Cognizant', 'Apple', 'Oracle', 'Accenture', 'Microsoft'}\n",
            "{'MindTree', 'IBM', 'Twitter', 'Google', 'Facebook', 'Amazon', 'Cognizant', 'Apple', 'Oracle', 'Accenture', 'Microsoft'}\n",
            "{19, 20, 22, 24, 25, 26, 27, 28}\n",
            "{19, 20, 22, 24, 25, 26}\n",
            "True\n",
            "False\n",
            "{19, 20, 22, 24, 25, 26, 27, 28}\n",
            "{19, 20, 22, 24, 25, 26, 27, 28}\n",
            "{27, 28}\n",
            "{19, 22, 24, 25, 26}\n",
            "8\n",
            "5\n"
          ]
        }
      ]
    }
  ]
}
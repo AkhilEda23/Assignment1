{
  "nbformat": 4,
  "nbformat_minor": 0,
  "metadata": {
    "colab": {
      "provenance": [],
      "authorship_tag": "ABX9TyPHpiyvW9aBy8q8Wwr/pmPp",
      "include_colab_link": true
    },
    "kernelspec": {
      "name": "python3",
      "display_name": "Python 3"
    },
    "language_info": {
      "name": "python"
    }
  },
  "cells": [
    {
      "cell_type": "markdown",
      "metadata": {
        "id": "view-in-github",
        "colab_type": "text"
      },
      "source": [
        "<a href=\"https://colab.research.google.com/github/AkhilEda23/Assignment1/blob/main/Ass1_1.ipynb\" target=\"_parent\"><img src=\"https://colab.research.google.com/assets/colab-badge.svg\" alt=\"Open In Colab\"/></a>"
      ]
    },
    {
      "cell_type": "code",
      "execution_count": 13,
      "metadata": {
        "colab": {
          "base_uri": "https://localhost:8080/"
        },
        "id": "NUnkH6dMXqPd",
        "outputId": "54e2ccf2-7aba-4076-eea0-b708e9bb2ea8"
      },
      "outputs": [
        {
          "output_type": "stream",
          "name": "stdout",
          "text": [
            "[19, 19, 20, 22, 24, 24, 24, 25, 25, 26]\n",
            "19\n",
            "26\n",
            "[19, 19, 20, 22, 24, 24, 24, 25, 25, 26, 26]\n",
            "[19, 19, 20, 22, 24, 24, 24, 25, 25, 26, 26, 19]\n",
            "[19, 19, 19, 20, 22, 24, 24, 24, 25, 25, 26, 26]\n",
            "24.0\n",
            "22.75\n",
            "7\n"
          ]
        }
      ],
      "source": [
        "import statistics\n",
        "ages = [19, 22, 19, 24, 20, 25, 26, 24, 25, 24]\n",
        "ages.sort()\n",
        "print(ages)\n",
        "minimum = min(ages)\n",
        "print(minimum)\n",
        "maximum  = max(ages)\n",
        "print(maximum)\n",
        "ages.append(maximum)\n",
        "print(ages)\n",
        "ages.append(minimum)\n",
        "print(ages)\n",
        "ages.sort()\n",
        "print(ages)\n",
        "medain_value = statistics.median(ages)\n",
        "print(medain_value)\n",
        "mean_value = statistics.mean(ages)\n",
        "print(mean_value)\n",
        "range_value  = max(ages) - min(ages)\n",
        "print(range_value)"
      ]
    }
  ]
}
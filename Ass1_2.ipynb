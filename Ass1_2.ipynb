{
  "nbformat": 4,
  "nbformat_minor": 0,
  "metadata": {
    "colab": {
      "provenance": [],
      "authorship_tag": "ABX9TyNqt13MfTClcWeGGclKk/Ys",
      "include_colab_link": true
    },
    "kernelspec": {
      "name": "python3",
      "display_name": "Python 3"
    },
    "language_info": {
      "name": "python"
    }
  },
  "cells": [
    {
      "cell_type": "markdown",
      "metadata": {
        "id": "view-in-github",
        "colab_type": "text"
      },
      "source": [
        "<a href=\"https://colab.research.google.com/github/AkhilEda23/Assignment1/blob/main/Ass1_2.ipynb\" target=\"_parent\"><img src=\"https://colab.research.google.com/assets/colab-badge.svg\" alt=\"Open In Colab\"/></a>"
      ]
    },
    {
      "cell_type": "code",
      "execution_count": 13,
      "metadata": {
        "colab": {
          "base_uri": "https://localhost:8080/"
        },
        "id": "NUnkH6dMXqPd",
        "outputId": "54e2ccf2-7aba-4076-eea0-b708e9bb2ea8"
      },
      "outputs": [
        {
          "output_type": "stream",
          "name": "stdout",
          "text": [
            "[19, 19, 20, 22, 24, 24, 24, 25, 25, 26]\n",
            "19\n",
            "26\n",
            "[19, 19, 20, 22, 24, 24, 24, 25, 25, 26, 26]\n",
            "[19, 19, 20, 22, 24, 24, 24, 25, 25, 26, 26, 19]\n",
            "[19, 19, 19, 20, 22, 24, 24, 24, 25, 25, 26, 26]\n",
            "24.0\n",
            "22.75\n",
            "7\n"
          ]
        }
      ],
      "source": [
        "import statistics\n",
        "ages = [19, 22, 19, 24, 20, 25, 26, 24, 25, 24]\n",
        "ages.sort()\n",
        "print(ages)\n",
        "minimum = min(ages)\n",
        "print(minimum)\n",
        "maximum  = max(ages)\n",
        "print(maximum)\n",
        "ages.append(maximum)\n",
        "print(ages)\n",
        "ages.append(minimum)\n",
        "print(ages)\n",
        "ages.sort()\n",
        "print(ages)\n",
        "medain_value = statistics.median(ages)\n",
        "print(medain_value)\n",
        "mean_value = statistics.mean(ages)\n",
        "print(mean_value)\n",
        "range_value  = max(ages) - min(ages)\n",
        "print(range_value)"
      ]
    },
    {
      "cell_type": "code",
      "source": [
        "dog = {\n",
        "    \"name\" : \"Miller\",\n",
        "     \"color\":\"white\",\n",
        "     \"breed\" :\"shinzu\",\n",
        "     \"legs\":4,\n",
        "     \"age\":2\n",
        "}\n",
        "\n",
        "print(dog)\n",
        "\n",
        "student = {\n",
        "    \"first_name\" : \"John\",\n",
        "    \"last_name\" :\"Snow\",\n",
        "    \"gender\" :\"male\",\n",
        "    \"age\":25,\n",
        "    \"marital_status\" :\"married\",\n",
        "    \"skills\" :[\"C programming\",\"node\",\"python\"],\n",
        "    \"country\":\"USA\",\n",
        "    \"city\":\"Overland Park\",\n",
        "    \"address\":\"9008 w 124thst\"\n",
        "}\n",
        "\n",
        "print(student)\n",
        "\n",
        "print(len(student))\n",
        "\n",
        "print(student[\"skills\"])\n",
        "print(type(student['skills']))\n",
        "\n",
        "student[\"skills\"].append(\"R programming\")\n",
        "\n",
        "print(student[\"skills\"])\n",
        "\n",
        "\n",
        "keys = student.keys()\n",
        "print(keys)\n",
        "\n",
        "values = student.values()\n",
        "print(values)"
      ],
      "metadata": {
        "colab": {
          "base_uri": "https://localhost:8080/"
        },
        "id": "8-EkUGIPrnhk",
        "outputId": "95410741-8d40-4109-e433-d2e67f0288aa"
      },
      "execution_count": 29,
      "outputs": [
        {
          "output_type": "stream",
          "name": "stdout",
          "text": [
            "{'name': 'Miller', 'color': 'white', 'breed': 'shinzu', 'legs': 4, 'age': 2}\n",
            "{'first_name': 'John', 'last_name': 'Snow', 'gender': 'male', 'age': 25, 'marital_status': 'married', 'skills': ['C programming', 'node', 'python'], 'country': 'USA', 'city': 'Overland Park', 'address': '9008 w 124thst'}\n",
            "9\n",
            "['C programming', 'node', 'python']\n",
            "<class 'list'>\n",
            "['C programming', 'node', 'python', 'R programming']\n",
            "dict_keys(['first_name', 'last_name', 'gender', 'age', 'marital_status', 'skills', 'country', 'city', 'address'])\n",
            "dict_values(['John', 'Snow', 'male', 25, 'married', ['C programming', 'node', 'python', 'R programming'], 'USA', 'Overland Park', '9008 w 124thst'])\n"
          ]
        }
      ]
    },
    {
      "cell_type": "code",
      "source": [],
      "metadata": {
        "id": "Haq7V1ahtNXB"
      },
      "execution_count": null,
      "outputs": []
    }
  ]
}